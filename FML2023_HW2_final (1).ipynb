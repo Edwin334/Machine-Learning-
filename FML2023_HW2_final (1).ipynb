{
 "cells": [
  {
   "cell_type": "markdown",
   "metadata": {
    "id": "bKXNjhiaxxUi"
   },
   "source": [
    "# Fundamentals of Machine Learning (CSCI-UA.473)\n",
    "\n",
    "## Homework 2\n",
    "### Due: October 26th, 2023 at 11:59PM\n",
    "\n",
    "### Name: Pinzhi Huang\n",
    "### Email: ph2239@nyu.edu"
   ]
  },
  {
   "cell_type": "code",
   "execution_count": 71,
   "metadata": {
    "id": "AVL473j7W0CB"
   },
   "outputs": [],
   "source": [
    "import numpy as np\n",
    "import pandas as pd\n",
    "from sklearn.model_selection import train_test_split\n",
    "\n",
    "## Use the same dataset that was released with HW1\n",
    "data = pd.read_csv('/Users/eddiehanqz/Desktop/FML2023_HW1_Dataset.csv')\n",
    "# Separate the features, target values, and feature names\n",
    "X = data.drop('target', axis=1)\n",
    "y = data['target'].values\n",
    "\n",
    "# Split the data into training and testing sets\n",
    "X_train, X_test, y_train, y_test = train_test_split(X, y, test_size=0.2, random_state=42)"
   ]
  },
  {
   "cell_type": "markdown",
   "metadata": {
    "id": "oD2ESfcW7ai7"
   },
   "source": [
    "### Question 1: Maximum Likelihood Estimation (MLE) vs Maximum A Posteriori (MAP) (25 points)\n",
    "\n",
    "In Homework 1, we performed linear and ridge regression. To summarize:\n",
    "\n",
    "In Linear regression,\n",
    "\n",
    "$$\\beta = \\arg\\min_{\\beta}\\sum\\left(y_i - \\left(\\beta_0 + \\beta_1 x_{1i} +, \\ldots, + \\beta_px_{p i}\\right)\\right)^2$$\n",
    "\n",
    "\n",
    "* $J(\\beta)$ is the cost function.\n",
    "* $\\beta_0,\\ldots,\\beta_p$ are the coefficients for the features.\n",
    "* $x_{1i}$ represents the values of the feature for the i-th observation.\n",
    "* $y_i$ is the target value for the i-th observation.\n",
    "\n",
    "For ridge regression\n",
    "\n",
    "$$J(\\beta) = \\sum\\left(y_i - \\left(\\beta_0 + \\beta_1 x_{1i} +, \\ldots, + \\beta_px_{p i}\\right)\\right)^2 + \\lambda \\cdot \\sum \\beta_i^2$$\n",
    "\n",
    "* $\\lambda$ is the regularization hyper-parameter.\n",
    "\n",
    "**Task 1.1 (5 points)** Linear regression embodies Maximum Likelihood Estimation (MLE). Show that a closed form expression is $$\\beta = (\\mathbf{A}^\\top \\mathbf{A})^{-1}\\mathbf{A}^\\top \\mathbf{Y}$$ where $\\mathbf{A} = [X_1,\\ldots,X_n]$ and $\\mathbf{Y} = [Y_1,\\ldots,Y_n]$.\n",
    "\n",
    "**Task 1.2 (5 points)**: Ridge regression embodies Maximum A Posteriori (MAP), wherein the regularizer serves as the prior. Show that a closed form expression for the ridge estimator is $$\\beta = (\\mathbf{A}^\\top \\mathbf{A} + \\lambda I)^{-1}\\mathbf{A}^\\top \\mathbf{Y}$$ where $\\mathbf{A} = [X_1,\\ldots,X_n]$ and $\\mathbf{Y} = [Y_1,\\ldots,Y_n]$.\n",
    "\n",
    "**Task 1.3 Implementation (10 points):** Fill in the code below to differentiate between MLE and MAP.\n",
    "\n",
    "**Task 1.4 (5 points):**\n",
    "* Do MLE and MAP yield distinct solutions as the sample size tends to infinity? Explain your answer.\n",
    "\n",
    "* Will the impact of prior be greater with a small or large sample size, and what is the underlying rationale for this phenomenon?\n",
    "\n"
   ]
  },
  {
   "cell_type": "markdown",
   "metadata": {},
   "source": [
    "## Anwser for Task 1"
   ]
  },
  {
   "cell_type": "markdown",
   "metadata": {},
   "source": [
    "#### Task1.1 Anwser\n",
    "Take the derivative of the cost function with respect to β\n",
    "\n",
    "$$\n",
    "\\begin{align}\n",
    "\\frac{\\partial J(\\beta)}{\\partial \\beta} =& \\frac{\\partial}{\\partial \\beta} \\sum (Y_i - \\beta^T X_i)^2 \\\\\n",
    "=& -2 \\sum (Y_i - \\beta^T X_i) X_i \n",
    "\\end{align}\n",
    "$$\n",
    "\n",
    "To find the value of $\\beta$ that minimizes the SSE, we set the derivative to zero and solve for $\\beta$, where we get:\n",
    "$$\n",
    "-2 \\sum (x_i - \\beta^T x_i) x_i =0 \\\\\n",
    "-2(Y - \\beta^T A)A = 0\n",
    "$$\n",
    "\n",
    "Therefore, we have:\n",
    "$$\n",
    "\\mathbf{A}^\\top \\mathbf{A} \\beta = \\mathbf{A}^\\top \\mathbf{Y} \\\\ \n",
    "\\beta = (\\mathbf{A}^\\top \\mathbf{A})^{-1} \\mathbf{A}^\\top \\mathbf{Y}\n",
    "$$\n"
   ]
  },
  {
   "cell_type": "markdown",
   "metadata": {},
   "source": [
    "#### Task1.2 Anwser\n",
    "To minimize $J(\\beta)$, we'll differentiate it with respect to $\\beta$ and set the result to zero.\n",
    "$$\n",
    "\\begin{align}\n",
    "\\frac{\\partial J(\\beta)}{\\partial \\beta} =& \\frac{\\partial}{\\partial \\beta} (\\sum\\left(y_i - \\left(\\beta_0 + \\beta_1 x_{1i} +, \\ldots, + \\beta_px_{p i}\\right)\\right)^2 + \\lambda \\cdot \\sum \\beta_i^2)\\\\\n",
    "=& -2 \\sum((y_i - \\beta_i^T x_i)x_i -  \\lambda \\beta_i)\n",
    "\\end{align}\n",
    "$$\n",
    "\n",
    "Setting it to zero, we have, \n",
    "$$\n",
    "\\begin{align}\n",
    "-2 \\sum((y_i - \\beta_i^T x_i)x_i - \\lambda \\beta_i) =& 0  \\\\ \n",
    "(Y - \\beta A)A^T - \\lambda \\beta =& 0 \\\\\n",
    "(\\mathbf{A}^\\top \\mathbf{A} + \\lambda I) \\beta =& \\mathbf{A}^\\top \\mathbf{Y} \\\\\n",
    "\\beta =& (\\mathbf{A}^\\top \\mathbf{A} + \\lambda I)^{-1}\\mathbf{A}^\\top \\mathbf{Y}\n",
    "\\end{align}\n",
    "$$\n",
    "\n"
   ]
  },
  {
   "cell_type": "markdown",
   "metadata": {},
   "source": [
    "#### Task 1.3 Anwser"
   ]
  },
  {
   "cell_type": "code",
   "execution_count": 72,
   "metadata": {
    "id": "oleMgs0V7Zsl"
   },
   "outputs": [
    {
     "name": "stdout",
     "output_type": "stream",
     "text": [
      "MSE using MLE: 27961.75691676191\n"
     ]
    }
   ],
   "source": [
    "def mle_linear_regression(X, y):\n",
    "    # Compute the MLE estimates using closed-form solution (HINT: Use np.linalg.inv)\n",
    "    \n",
    "    # Compute the MLE estimates using closed-form solution\n",
    "    theta_mle = np.matmul(np.linalg.inv(X.T@X), X.T@y)\n",
    "\n",
    "    return theta_mle\n",
    "\n",
    "# Calculate MLE estimates with bias\n",
    "theta_mle = mle_linear_regression(X_train, y_train)\n",
    "\n",
    "# Make predictions on the test set\n",
    "y_preds = X_test @ theta_mle\n",
    "\n",
    "# Calculate Mean Squared Error (MSE)\n",
    "mse_mle = np.mean((y_test - y_preds)**2)\n",
    "print(f\"MSE using MLE: {mse_mle}\")"
   ]
  },
  {
   "cell_type": "code",
   "execution_count": 73,
   "metadata": {
    "id": "cqvfD-8uF-Jl"
   },
   "outputs": [
    {
     "name": "stdout",
     "output_type": "stream",
     "text": [
      "MSE using MAP: 27936.540595134647\n"
     ]
    }
   ],
   "source": [
    "def map_linear_regression(X, y, lambda_reg):\n",
    "    theta_map = np.matmul(np.linalg.inv(X.T@X+lambda_reg*np.eye(X.shape[1])), X.T@y)\n",
    "    return theta_map\n",
    "\n",
    "# Set the regularization parameter (lambda)\n",
    "lambda_reg = 0.01\n",
    "theta_map = map_linear_regression(X_train, y_train, lambda_reg)\n",
    "\n",
    "# Make predictions on the test set\n",
    "y_preds = X_test @ theta_map\n",
    "\n",
    "# Calculate Mean Squared Error (MSE)\n",
    "mse_map = np.mean((y_test - y_preds)**2)\n",
    "print(f\"MSE using MAP: {mse_map}\")"
   ]
  },
  {
   "cell_type": "markdown",
   "metadata": {},
   "source": [
    "#### Task 1.4 Anwser:\n",
    "\n",
    "   1) Do MLE and MAP yield distinct solutions as the sample size tends to infinity?\n",
    "\n",
    "   As the sample size tends to infinity, the Maximum Likelihood Estimation (MLE) and Maximum A Posteriori (MAP) estimates converge to the same value, under regularity conditions. This is because as the sample size grows, the likelihood dominates the prior in the MAP estimation. The influence of the prior becomes negligible compared to the overwhelming amount of data. Therefore, in the limit of infinite data, the MAP estimate becomes equivalent to the MLE estimate.\n",
    "\n",
    "\n",
    "\n",
    "\n",
    "\n",
    "   2) Will the impact of the prior be greater with a small or large sample size, and what is the underlying rationale for this phenomenon?\n",
    "\n",
    "   The impact of the prior is greater with a small sample size. When the sample size is small, there's less data to \"inform\" or \"sway\" the estimation, so the prior (our initial beliefs or assumptions) plays a more significant role in the MAP estimate. As the sample size increases, the likelihood (which is informed by the data) starts to dominate, and the influence of the prior diminishes.\n",
    "\n",
    "   The underlying rationale for this phenomenon is that the likelihood represents the information from the data, while the prior represents our initial beliefs or assumptions. When we have little data, our estimates rely more on our initial beliefs. As we gather more data, our estimates are increasingly influenced by the data itself, and the initial beliefs (prior) become less relevant. This is a manifestation of the Bayesian updating process, where prior beliefs are updated with new data to produce posterior beliefs."
   ]
  },
  {
   "cell_type": "markdown",
   "metadata": {
    "id": "RwH8gND4XGvE"
   },
   "source": [
    "### Question 2: Classification with imbalanced dataset (20 points)\n",
    "\n",
    "We are creating an imbalanced version of the target variable for the Z dataset. An imbalanced dataset means that one class is much more frequent than the other class. In our case, we will consider the two classes as follows:\n",
    "\n",
    "- Class 0: Z progression values that are below the 75th percentile of the original target variable.\n",
    "- Class 1: Z progression values that are above the 75th percentile of the original target variable.\n",
    "\n",
    "By doing this, we are creating an imbalance where Class 0 will be more prevalent than Class 1, mimicking a common scenario in real-world imbalanced datasets."
   ]
  },
  {
   "cell_type": "code",
   "execution_count": 74,
   "metadata": {
    "id": "dQMA6OPsXD49"
   },
   "outputs": [],
   "source": [
    "from sklearn.utils import shuffle\n",
    "from sklearn.model_selection import train_test_split\n",
    "\n",
    "# Shuffle the data\n",
    "X, y = shuffle(X, y, random_state=42)\n",
    "\n",
    "# Create an imbalanced target variable\n",
    "y_imbalanced = np.where(y > np.percentile(y, 75), 1, 0)\n",
    "\n",
    "X_train, X_test, y_train, y_test = train_test_split(X, y_imbalanced, test_size=0.2, random_state=42)"
   ]
  },
  {
   "cell_type": "markdown",
   "metadata": {
    "id": "FJiy4EyUYX93"
   },
   "source": [
    "\n",
    "**Task 2.1 (3 points):**\n",
    "- Create a SVM classifier with a linear kernel, then calculate accuracy, precision, recall, and F1 score using available library functions."
   ]
  },
  {
   "cell_type": "code",
   "execution_count": 75,
   "metadata": {
    "id": "eKLZyXkwSDw0"
   },
   "outputs": [
    {
     "name": "stdout",
     "output_type": "stream",
     "text": [
      "test class\n",
      "Accuracy: 0.8427\n",
      "Precision: 0.0000\n",
      "Recall: 0.0000\n",
      "F1 Score: 0.0000\n",
      "\n",
      "\n",
      "train class\n",
      "Accuracy: 0.7252\n",
      "Precision: 0.0000\n",
      "Recall: 0.0000\n",
      "F1 Score: 0.0000\n"
     ]
    }
   ],
   "source": [
    "from sklearn.svm import SVC\n",
    "from sklearn.metrics import accuracy_score, precision_score, recall_score, f1_score\n",
    "\n",
    "\n",
    "svm_classifier = SVC(kernel='linear', random_state=42)\n",
    "svm_classifier.fit(X_train, y_train)\n",
    "y_pred = svm_classifier.predict(X_test)\n",
    "accuracy = accuracy_score(y_test, y_pred)\n",
    "precision = precision_score(y_test, y_pred, zero_division=0)\n",
    "recall = recall_score(y_test, y_pred)\n",
    "f1 = f1_score(y_test, y_pred)\n",
    "\n",
    "\n",
    "print(\"test class\")\n",
    "print(f\"Accuracy: {accuracy:.4f}\")\n",
    "print(f\"Precision: {precision:.4f}\")\n",
    "print(f\"Recall: {recall:.4f}\")\n",
    "print(f\"F1 Score: {f1:.4f}\")\n",
    "print(\"\\n\")\n",
    "\n",
    "print(\"train class\")\n",
    "svm_classifier = SVC(kernel='linear', random_state=42)\n",
    "svm_classifier.fit(X_train, y_train)\n",
    "y_pred = svm_classifier.predict(X_train)\n",
    "accuracy = accuracy_score(y_train, y_pred)\n",
    "precision = precision_score(y_train, y_pred, zero_division=0)\n",
    "recall = recall_score(y_train, y_pred)\n",
    "f1 = f1_score(y_train, y_pred)\n",
    "print(f\"Accuracy: {accuracy:.4f}\")\n",
    "print(f\"Precision: {precision:.4f}\")\n",
    "print(f\"Recall: {recall:.4f}\")\n",
    "print(f\"F1 Score: {f1:.4f}\")\n"
   ]
  },
  {
   "cell_type": "markdown",
   "metadata": {
    "id": "i6mJ3w9TbWHT"
   },
   "source": [
    "\n",
    "**Task 2.2 (5 points):** What causes the metrics to exhibit lower values for the imbalanced dataset compared to those in homework 1?"
   ]
  },
  {
   "cell_type": "markdown",
   "metadata": {},
   "source": [
    "### Task2.2 anwser \n",
    "The dataset is imbalance. There're too many 0 than 1 in y. Speficially, there are 331's 0 and only 109's 1, making the model that only outputs 0 having an accuracy of 75% already. Put it in other way, due to the scarcity of the 1 class examples, models might overfit to the few available instances. This can lead to poor generalization performance when the model is tested on new, unseen data.\n"
   ]
  },
  {
   "cell_type": "markdown",
   "metadata": {
    "id": "QPYn44O40aKX"
   },
   "source": [
    "**Random oversampling** is one of the many techniques used to address the class imbalance problem. It involves increasing the number of instances in the minority class by randomly duplicating existing instances. This helps to balance the class distribution and can lead to improved performance for certain models.\n",
    "\n",
    "**Task 2.3 (2 points):** Calculate and display the following statistics for the target variable (y) before applying random oversampling:\n",
    "  - Mean\n",
    "  - Standard Deviation\n",
    "  - Minimum\n",
    "  - Maximum\n",
    "\n",
    "**Task 2.4 (5 points):** Perform random oversampling on the training set. After oversampling, calculate and display the same statistics for the oversampled target variable."
   ]
  },
  {
   "cell_type": "code",
   "execution_count": 76,
   "metadata": {},
   "outputs": [
    {
     "name": "stdout",
     "output_type": "stream",
     "text": [
      "for y:\n",
      "Mean is 152.13348416289594\n",
      "Standard devidation is 77.00574586945044\n",
      "The maximum is 346.0\n",
      "The minimum is 25.0\n",
      "\n",
      "for y_train\n",
      "Mean is 0.2747875354107649\n",
      "Standard devidation is 0.4464071524893418\n",
      "The maximum is 1\n",
      "The minimum is 0\n"
     ]
    }
   ],
   "source": [
    "# task2.3\n",
    "print(\"for y:\")\n",
    "print(f\"Mean is {np.mean(y)}\")\n",
    "print(f\"Standard devidation is {np.std(y)}\")\n",
    "print(f\"The maximum is {np.max(y)}\")\n",
    "print(f\"The minimum is {np.min(y)}\")\n",
    "print(\"\\nfor y_train\")\n",
    "print(f\"Mean is {np.mean(y_train)}\")\n",
    "print(f\"Standard devidation is {np.std(y_train)}\")\n",
    "print(f\"The maximum is {np.max(y_train)}\")\n",
    "print(f\"The minimum is {np.min(y_train)}\")\n",
    "\n",
    "#not sure if I should calculate for y or y_train so I do them both"
   ]
  },
  {
   "cell_type": "code",
   "execution_count": 77,
   "metadata": {
    "id": "PItrNXNsX7ou"
   },
   "outputs": [
    {
     "name": "stdout",
     "output_type": "stream",
     "text": [
      "Mean is 0.5\n",
      "Standard devidation is 0.5\n",
      "The maximum is 1\n",
      "The minimum is 0\n"
     ]
    }
   ],
   "source": [
    "#task2.4\n",
    "from sklearn.utils import resample\n",
    "\n",
    "majority_class = (y_train == 0)\n",
    "minority_class = (y_train == 1)\n",
    "\n",
    "X_train_majority = X_train[majority_class]\n",
    "y_train_majority = y_train[majority_class]\n",
    "\n",
    "X_train_minority = X_train[minority_class]\n",
    "y_train_minority = y_train[minority_class]\n",
    "\n",
    "\n",
    "X_train_minority_oversampled, y_train_minority_oversampled = resample(X_train_minority, y_train_minority, \n",
    "                                                                     replace=True, \n",
    "                                                                     n_samples=len(y_train_majority),\n",
    "                                                                     random_state=42)\n",
    "\n",
    "# Combine the oversampled minority class instances with the original majority class instances\n",
    "X_train_oversampled = np.vstack((X_train_majority, X_train_minority_oversampled))\n",
    "y_train_oversampled = np.hstack((y_train_majority, y_train_minority_oversampled))\n",
    "\n",
    "\n",
    "print(f\"Mean is {np.mean(y_train_oversampled)}\")\n",
    "print(f\"Standard devidation is {np.std(y_train_oversampled)}\")\n",
    "print(f\"The maximum is {np.max(y_train_oversampled)}\")\n",
    "print(f\"The minimum is {np.min(y_train_oversampled)}\")"
   ]
  },
  {
   "cell_type": "markdown",
   "metadata": {
    "id": "Oel3kCeV2tOM"
   },
   "source": [
    "**Task 2.5 (5 points):**\n",
    "- Create another instance of SVM classifier with linear kernel, fit it on the oversampled data and calculate all the prior metrics for the oversampled model.\n",
    "- Show the metrics with different regularization parameters {0.1, 1, 10, 100} on the linear kernel.\n",
    "- Show the metrics with polynomial degrees {-1, 0, 3, 4} and observe how the model's complexity changes.\n",
    "- Introduce different values for the regularization parameter in the RBF kernel and show how it balances the trade-off between maximizing the margin and minimizing classification error."
   ]
  },
  {
   "cell_type": "code",
   "execution_count": 78,
   "metadata": {},
   "outputs": [],
   "source": [
    "def display_metrics(y_test, y_pred):\n",
    "    accuracy = accuracy_score(y_test, y_pred)\n",
    "    precision = precision_score(y_test, y_pred, zero_division=0)\n",
    "    recall = recall_score(y_test, y_pred)\n",
    "    f1 = f1_score(y_test, y_pred)\n",
    "    return accuracy, precision, recall, f1\n"
   ]
  },
  {
   "cell_type": "code",
   "execution_count": 79,
   "metadata": {
    "id": "LeictOez24d9"
   },
   "outputs": [
    {
     "name": "stdout",
     "output_type": "stream",
     "text": [
      "For the new oversampled model\n",
      "Accuracy=0.7865, Precision=0.4194, Recall=0.9286, F1=0.5778\n",
      "\n",
      "\n",
      "For different regularization parameters {0.1, 1, 10, 100} on the linear kernel.\n",
      "For C=0.1: Accuracy=0.7416, Precision=0.3714, Recall=0.9286, F1=0.5306\n",
      "For C=1: Accuracy=0.7865, Precision=0.4194, Recall=0.9286, F1=0.5778\n",
      "For C=10: Accuracy=0.7753, Precision=0.3929, Recall=0.7857, F1=0.5238\n",
      "For C=100: Accuracy=0.7640, Precision=0.3793, Recall=0.7857, F1=0.5116\n",
      "\n",
      "For polynomial degrees {1, 2, 3, 4} \n",
      "For degree=1: Accuracy=0.7640, Precision=0.3793, Recall=0.7857, F1=0.5116\n",
      "For degree=2: Accuracy=0.7865, Precision=0.3529, Recall=0.4286, F1=0.3871\n",
      "For degree=3: Accuracy=0.8315, Precision=0.4737, Recall=0.6429, F1=0.5455\n",
      "For degree=4: Accuracy=0.8315, Precision=0.4444, Recall=0.2857, F1=0.3478\n"
     ]
    },
    {
     "data": {
      "image/png": "[encoded data removed]",
      "text/plain": [
       "<Figure size 1000x600 with 1 Axes>"
      ]
     },
     "metadata": {},
     "output_type": "display_data"
    }
   ],
   "source": [
    "from sklearn.svm import SVC\n",
    "from sklearn.metrics import accuracy_score, precision_score, recall_score, f1_score\n",
    "import matplotlib.pyplot as plt\n",
    "import numpy as np\n",
    "\n",
    "\n",
    "# Convert pandas DataFrame (if you're using one) to numpy arrays: I do not know what I am doing\n",
    "X_train_oversampled = X_train_oversampled.values if hasattr(X_train_oversampled, 'values') else X_train_oversampled\n",
    "y_train_oversampled = y_train_oversampled.values if hasattr(y_train_oversampled, 'values') else y_train_oversampled\n",
    "X_test = X_test.values if hasattr(X_test, 'values') else X_test\n",
    "y_test = y_test.values if hasattr(y_test, 'values') else y_test\n",
    "\n",
    "\n",
    "svm_classifier = SVC(kernel='linear', random_state=42)\n",
    "svm_classifier.fit(X_train_oversampled, y_train_oversampled)\n",
    "y_pred = svm_classifier.predict(X_test)\n",
    "accuracy, precision, recall, f1 = display_metrics(y_test, y_pred)\n",
    "print(\"For the new oversampled model\")\n",
    "print(f\"Accuracy={accuracy:.4f}, Precision={precision:.4f}, Recall={recall:.4f}, F1={f1:.4f}\")\n",
    "print(\"\\n\")\n",
    "\n",
    "print(\"For different regularization parameters {0.1, 1, 10, 100} on the linear kernel.\")\n",
    "for C in [0.1, 1, 10, 100]:\n",
    "    svm_clf = SVC(kernel='linear', C=C, random_state=42)\n",
    "    svm_clf.fit(X_train_oversampled, y_train_oversampled)\n",
    "    y_pred = svm_clf.predict(X_test)\n",
    "    accuracy, precision, recall, f1 = display_metrics(y_test, y_pred)\n",
    "    print(f\"For C={C}: Accuracy={accuracy:.4f}, Precision={precision:.4f}, Recall={recall:.4f}, F1={f1:.4f}\")\n",
    "\n",
    "print(\"\\nFor polynomial degrees {1, 2, 3, 4} \")\n",
    "for degree in [1,2,3, 4]: #-1 is not accepted\n",
    "    svm_clf = SVC(kernel='poly', degree=degree, random_state=42)\n",
    "    svm_clf.fit(X_train_oversampled, y_train_oversampled)\n",
    "    y_pred = svm_clf.predict(X_test)\n",
    "    accuracy, precision, recall, f1 = display_metrics(y_test, y_pred)\n",
    "    print(f\"For degree={degree}: Accuracy={accuracy:.4f}, Precision={precision:.4f}, Recall={recall:.4f}, F1={f1:.4f}\")\n",
    "\n",
    "C_values =[0.1,1,2,5,10,20]\n",
    "train_accuracies = []\n",
    "test_accuracies = []\n",
    "for C in C_values:\n",
    "    svm_rbf = SVC(kernel='rbf', C=C, random_state=42)\n",
    "    svm_rbf.fit(X_train_oversampled, y_train_oversampled)\n",
    "    y_train_pred = svm_rbf.predict(X_train_oversampled)\n",
    "    y_test_pred = svm_rbf.predict(X_test)\n",
    "    \n",
    "    train_accuracy = accuracy_score(y_train_pred, y_train_oversampled)\n",
    "    test_accuracy = accuracy_score(y_test_pred, y_test)\n",
    "    train_accuracies.append(train_accuracy)\n",
    "    test_accuracies.append(test_accuracy)\n",
    "    \n",
    "\n",
    "plt.figure(figsize=(10,6))\n",
    "plt.plot(C_values, train_accuracies, marker='o', label='Training Accuracy')\n",
    "plt.plot(C_values, test_accuracies, marker='x', label='Test Accuracy')\n",
    "plt.xscale('log')  # Since C values are on a log scale\n",
    "plt.xlabel('C value')\n",
    "plt.ylabel('Accuracy')\n",
    "plt.title('Trade-off between margin and classification error')\n",
    "plt.legend()\n",
    "plt.grid(True)\n",
    "plt.show()"
   ]
  },
  {
   "cell_type": "markdown",
   "metadata": {},
   "source": [
    "With the increase of C value, the training accuracy and testing acciracy increase to a point where test accuracy decrease due to overfitting"
   ]
  },
  {
   "cell_type": "markdown",
   "metadata": {
    "id": "oquatEvqroqa"
   },
   "source": [
    "### Question 3: Naive Bayes Model (10 points)\n",
    "\n",
    "Implement the Naieve Bayes classifer on the Z dataset. \n",
    "\n",
    "We will assume that each continuous feature $X_i$ of $X$ follow a Gaussian distribution within each class $Y$.\n",
    "\n",
    "- For each class $c$, calculate the mean $(\\mu_c)$ and standard deviation $(\\sigma_c)$ for each feature. These parameters represent the central tendency and spread of the feature values within each class. They can be computed as:\n",
    "\n",
    "   \\begin{align*}\n",
    "   \\mu_c^j &= \\frac{1}{N_c} \\sum_{i=1}^{N_c} X_i^j \\quad \\text{(mean of feature \\(j\\) in class \\(c\\))} \\\\\n",
    "   \\sigma_c^j &= \\sqrt{\\frac{1}{N_c} \\sum_{i=1}^{N_c} (X_i^j - \\mu_c^j)^2} + \\epsilon \\quad \\text{(standard deviation of feature \\(j\\) in class \\(c\\))}\n",
    "   \\end{align*}\n",
    "     \n",
    "   where $N_c$ is the number of data points in class $c$, and $\\varepsilon=1e^{-6}$ is a small constant added for numerical stability.\n",
    "\n",
    "- To make a prediction for a new data point $x$, calculate the probability of $x$ belonging to each class $c$ using the Gaussian probability density function:\n",
    "\n",
    "   \\begin{align*}\n",
    "   P(X^j = x^j | Y = c) = \\frac{1}{\\sqrt{2\\pi}\\sigma_c^j} e^{-\\frac{1}{2}\\left(\\frac{x^j - \\mu_c^j}{\\sigma_c^j}\\right)^2}\n",
    "   \\end{align*}\n",
    "\n",
    "- Calculate the class probability $P(Y = c | X = x)$ as the product of the probabilities of each feature:\n",
    "\n",
    "    \\begin{align*}\n",
    "     P(Y = c | X = x) = P(Y = c) \\prod_{j=1}^{D} P(X^j = x^j | Y = c)\n",
    "    \\end{align*}\n",
    "\n",
    "   where $D$ is the number of features.\n",
    "\n",
    "- Assign the class label to the class with the highest probability:\n",
    "\n",
    "    \\begin{align*}\n",
    "     \\hat{Y} = \\arg\\max_{c} P(Y = c | X = x)\n",
    "     \\end{align*}\n",
    "\n",
    "**Hint:** In the code for Gaussian Naive Bayes, we take logarithms in certain calculations. This is a common technique used to avoid numerical underflow, especially when working with small probabilities."
   ]
  },
  {
   "cell_type": "code",
   "execution_count": 80,
   "metadata": {
    "id": "JEIVwXWKrscC"
   },
   "outputs": [
    {
     "name": "stdout",
     "output_type": "stream",
     "text": [
      "Accuracy: 0.8314606741573034\n"
     ]
    }
   ],
   "source": [
    "import numpy as np\n",
    "\n",
    "class GaussianNaiveBayes:\n",
    "\n",
    "    def fit(self, X, y):\n",
    "        self.classes = np.unique(y)\n",
    "        self.parameters = {}\n",
    "        for c in self.classes:\n",
    "            ### Compute the parameters here\n",
    "            X_c = X[y == c]\n",
    "            self.parameters[c] = {\n",
    "                'mean': X_c.mean(axis=0),  # Make sure it's a numpy array\n",
    "                'std': np.sqrt(((X_c - X_c.mean(axis=0))**2).sum(axis=0)/len(X_c) + 1e-6),\n",
    "                'prior': float(len(X_c) / len(X))\n",
    "            }\n",
    "    def _calculate_likelihood(self, x, mean, std):\n",
    "        ### Compute the likelihood: I will take the log latter since it does not ask for log likelihood.\n",
    "        exponent = np.exp(-((x - mean)**2 / (2 * std**2)))\n",
    "        likelihood = (1 / (np.sqrt(2 * np.pi) * std)) * exponent\n",
    "        return likelihood\n",
    "\n",
    "    def _calculate_class_probability(self, x, c):\n",
    "        ### Calculate P(Y = c | X = x)\n",
    "        class_params = self.parameters[c]\n",
    "        likelihoods = self._calculate_likelihood(x, class_params['mean'], class_params['std'])\n",
    "        return np.sum(np.log(likelihoods)) + np.log(class_params['prior'])\n",
    "\n",
    "    def predict(self, X):\n",
    "        ### Code for predicting the class label\n",
    "        y_pred = [np.argmax([self._calculate_class_probability(x, c) for c in self.classes]) for x in X]\n",
    "        return y_pred\n",
    "    \n",
    "    def score(self, X, y):\n",
    "        y_pred = self.predict(X)\n",
    "        accuracy = np.mean(y_pred == y)\n",
    "        return accuracy\n",
    "\n",
    "# Initialize and train the Gaussian Naive Bayes classifier\n",
    "gnb = GaussianNaiveBayes()\n",
    "gnb.fit(X_train, y_train)\n",
    "y_pred = gnb.predict(X_test)\n",
    "accuracy = gnb.score(X_test, y_test)\n",
    "print(f\"Accuracy: {accuracy}\")"
   ]
  },
  {
   "cell_type": "markdown",
   "metadata": {
    "id": "4czskeTTCMam"
   },
   "source": [
    "### Question 4: ROC curve and AUROC (15 points)\n",
    "\n",
    "**Task 4.1 (3 points):** Imagine you are a public health researcher investigating the performance of a new diagnostic test for disease Z, which is a potentially life-threatening condition. The test is designed to identify individuals who have the disease. You have collected data from a group of 500 patients who were tested for disease Z, and the results are as follows:\n",
    "\n",
    "Out of 150 patients who actually have disease Z, the test correctly identified 120 of them as positive.\n",
    "However, the test also falsely identified 50 patients who do not have disease Z as positive.\n",
    "\n",
    "* **Precision:** Define precision in the context of this diagnostic test for disease Z. Calculate the precision of the test based on the provided data.\n",
    "* **Recall:** Explain what recall means in this scenario. Calculate the recall of the test based on the provided data.\n",
    "* **F1-score:** Define the F1-score and explain why it is important, especially in the context of diagnosing a serious disease like Z. Calculate the F1-score of the test based on the provided data.\n",
    "* **Specificity:** What is specificity, and why is it relevant when evaluating a diagnostic test like this one? Calculate the specificity of the test based on the provided data.\n",
    "* **Balanced Accuracy:** Describe what balanced accuracy is and why it might be a useful metric in this situation. Calculate the balanced accuracy of the test based on the provided data."
   ]
  },
  {
   "cell_type": "markdown",
   "metadata": {},
   "source": [
    "#### Task 3.1 Anwser\n",
    "Let's denote TP as test true positive, FP as false positive, TN as true negative, and TP as true positive. (e.g. By false negative, I mean the number of patients who is positive but test negative.)\n",
    "\n",
    "1. Precision measures how many of the positive indentifications were actually correct. \\\n",
    "$$\n",
    "\\begin{align}\n",
    "    Precision &= \\frac{TP}{TP+FP}\\\\\n",
    "    &= \\frac{120}{120+50}\\\\\n",
    "    &\\approx 0.7059\n",
    "\\end{align}\n",
    "$$\n",
    "2. Recall measures how many of the actual positives were correctly identified by the test. It tells us the ability of the test to identify all the positive cases.\n",
    "$$\n",
    "\\begin{align}\n",
    "    Recall &= \\frac{TP}{TP+FN}\\\\\n",
    "    &= \\frac{120}{120+(150-120)}\\\\\n",
    "    &=0.8\n",
    "\\end{align}\n",
    "$$\n",
    "3. F1-score is the harmonic mean of precision and recall. It helps balance the trade-off between precision and recall.\n",
    "$$\n",
    "\\begin{align}\n",
    "    F1 &= \\frac{2 \\times Precision \\times Recall }{Precision + Recall}\\\\\n",
    "    &=0.75\n",
    "\\end{align}\n",
    "$$\n",
    "4. Specificity measures the proportion of actual negativfes that are correctly identified as such.\n",
    "$$\n",
    "\\begin{align}\n",
    "    \\text{Specificity} &= \\frac{TN}{TN+FP}\\\\\n",
    "    &= \\frac{350-50}{300+50}\\\\\n",
    "    &=0.8571\n",
    "\\end{align}\n",
    "$$\n",
    "5.Balanced Accuracy is the average of recall and specificity. It's useful because it takes into account both false positives and false negatives, providing a more balanced metric than just accuracy alone, especially when classes are imbalanced.\n",
    "$$\n",
    "\\begin{align}\n",
    "    BA &= \\frac{Recall + Specificity}{2}\\\\\n",
    "    &= \\frac{0.8 +0.8571}{2}\\\\\n",
    "    &=0.8286\n",
    "\\end{align}\n",
    "$$"
   ]
  },
  {
   "cell_type": "markdown",
   "metadata": {
    "id": "aPOZo4QM5V_y"
   },
   "source": [
    "**Task 4.2 (6 Points)** Plot the ROC curve\n",
    "\n",
    "An ROC curve plots TPR (y-axis) vs. FPR (x-axis) at all classification thresholds. Lowering the classification threshold classifies more items as positive, thus increasing both False Positives and True Positives.\n",
    "\n",
    "See this for more details (https://developers.google.com/machine-learning/crash-course/classification/roc-and-auc)\n",
    "\n",
    "Plot the ROC curve for Disease Z HW1 dataset with SVM classifier. **Note that you are not allowed to use any library function to compute the ROC. You have to do it from scratch.**"
   ]
  },
  {
   "cell_type": "code",
   "execution_count": 81,
   "metadata": {
    "id": "aZnZs_QC5oxQ"
   },
   "outputs": [
    {
     "data": {
      "image/png": "[encoded data removed]",
      "text/plain": [
       "<Figure size 1000x700 with 1 Axes>"
      ]
     },
     "metadata": {},
     "output_type": "display_data"
    }
   ],
   "source": [
    "#after oversampling\n",
    "X_train_oversampled = X_train_oversampled.values if hasattr(X_train_oversampled, 'values') else X_train_oversampled\n",
    "y_train_oversampled = y_train_oversampled.values if hasattr(y_train_oversampled, 'values') else y_train_oversampled\n",
    "X_test = X_test.values if hasattr(X_test, 'values') else X_test\n",
    "y_test = y_test.values if hasattr(y_test, 'values') else y_test\n",
    "\n",
    "svm_classifier = SVC(kernel='linear', random_state=42, probability=True)\n",
    "svm_classifier.fit(X_train_oversampled, y_train_oversampled)\n",
    "y_scores = svm_classifier.decision_function(X_test)  \n",
    "\n",
    "thresholds = sorted(y_scores, reverse=True)\n",
    "TPRs = []\n",
    "FPRs = []\n",
    "\n",
    "for threshold in thresholds:\n",
    "    y_pred_threshold = (y_scores >= threshold).astype(int)\n",
    "    TP = np.sum((y_pred_threshold == 1) & (y_test == 1))\n",
    "    FP = np.sum((y_pred_threshold == 1) & (y_test == 0))\n",
    "    FN = np.sum((y_pred_threshold == 0) & (y_test == 1))\n",
    "    TN = np.sum((y_pred_threshold == 0) & (y_test == 0))\n",
    "\n",
    "    TPR = TP / (TP + FN)\n",
    "    FPR = FP / (FP + TN)\n",
    "\n",
    "    TPRs.append(TPR)\n",
    "    FPRs.append(FPR)\n",
    "\n",
    "# Plot the ROC curve\n",
    "plt.figure(figsize=(10, 7))\n",
    "plt.plot(FPRs, TPRs, label='ROC oversample', color='blue')\n",
    "plt.xlabel('False Positive Rate (FPR)')\n",
    "plt.ylabel('True Positive Rate (TPR)')\n",
    "plt.title('ROC Curve for Disease Z using SVM Classifier')\n",
    "plt.legend()\n",
    "\n",
    "\n",
    "\n",
    "#undersample\n",
    "\n",
    "# Shuffle the data\n",
    "X, y = shuffle(X, y, random_state=42)\n",
    "\n",
    "# Create an imbalanced target variable\n",
    "y_imbalanced = np.where(y > np.percentile(y, 75), 1, 0)\n",
    "\n",
    "X_train, X_test, y_train, y_test = train_test_split(X, y_imbalanced, test_size=0.2, random_state=42)\n",
    "svm_classifier = SVC(kernel='linear', random_state=42)\n",
    "svm_classifier.fit(X_train, y_train)\n",
    "y_pred = svm_classifier.predict(X_test)\n",
    "\n",
    "svm_classifier = SVC(kernel='linear', random_state=42, probability=True)\n",
    "svm_classifier.fit(X_train, y_train)\n",
    "y_scores = svm_classifier.decision_function(X_test)  \n",
    "\n",
    "thresholds = sorted(y_scores, reverse=True)\n",
    "undersample_TPRs = []\n",
    "undersample_FPRs = []\n",
    "\n",
    "for threshold in thresholds:\n",
    "    y_pred_threshold = (y_scores >= threshold).astype(int)\n",
    "    TP = np.sum((y_pred_threshold == 1) & (y_test == 1))\n",
    "    FP = np.sum((y_pred_threshold == 1) & (y_test == 0))\n",
    "    FN = np.sum((y_pred_threshold == 0) & (y_test == 1))\n",
    "    TN = np.sum((y_pred_threshold == 0) & (y_test == 0))\n",
    "\n",
    "    TPR = TP / (TP + FN)\n",
    "    FPR = FP / (FP + TN)\n",
    "\n",
    "    undersample_TPRs.append(TPR)\n",
    "    undersample_FPRs.append(FPR)\n",
    "\n",
    "# Plot the ROC curve\n",
    "plt.plot(undersample_FPRs, undersample_TPRs, label='ROC undersample', color='red')\n",
    "plt.legend()\n",
    "plt.show()\n"
   ]
  },
  {
   "cell_type": "markdown",
   "metadata": {
    "id": "G9sRjUMk592y"
   },
   "source": [
    "**Task 4.3 (6 Points):** Compute the AUC of ROC\n",
    "\n",
    "AUC stands for \"Area under the ROC Curve.\" That is, AUC measures the entire two|-dimensional area underneath the entire ROC curve (think integral calculus) from (0,0) to (1,1). AUC provides an aggregate measure of performance across all possible classification thresholds. One way of interpreting AUC is as the probability that the model ranks a random positive example more highly than a random negative example.\n",
    "\n",
    "Compute the AUC of your SVM model. **Note that you are not allowed to use any library function to compute the AUC. You have to do it from scratch.**"
   ]
  },
  {
   "cell_type": "code",
   "execution_count": 51,
   "metadata": {},
   "outputs": [
    {
     "name": "stdout",
     "output_type": "stream",
     "text": [
      "undersample_AUC: 0.8620268620268621\n"
     ]
    }
   ],
   "source": [
    "undersample_AUC = 0.0\n",
    "for i in range(1, len(undersample_FPRs)):\n",
    "    undersample_AUC += 0.5 * (undersample_FPRs[i] - undersample_FPRs[i-1]) * (undersample_TPRs[i] + undersample_TPRs[i-1])\n",
    "\n",
    "print(\"undersample_AUC:\", undersample_AUC)\n"
   ]
  },
  {
   "cell_type": "code",
   "execution_count": null,
   "metadata": {},
   "outputs": [],
   "source": []
  }
 ],
 "metadata": {
  "colab": {
   "provenance": []
  },
  "kernelspec": {
   "display_name": "Python 3 (ipykernel)",
   "language": "python",
   "name": "python3"
  },
  "language_info": {
   "codemirror_mode": {
    "name": "ipython",
    "version": 3
   },
   "file_extension": ".py",
   "mimetype": "text/x-python",
   "name": "python",
   "nbconvert_exporter": "python",
   "pygments_lexer": "ipython3",
   "version": "3.11.4"
  }
 },
 "nbformat": 4,
 "nbformat_minor": 1
}
