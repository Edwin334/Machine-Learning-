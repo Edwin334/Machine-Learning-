{
  "nbformat": 4,
  "nbformat_minor": 0,
  "metadata": {
    "colab": {
      "provenance": []
    },
    "kernelspec": {
      "name": "python3",
      "display_name": "Python 3"
    },
    "language_info": {
      "name": "python"
    }
  },
  "cells": [
    {
      "cell_type": "markdown",
      "source": [
        "# Introduction to Machine Learning (CSCI-UA.473)\n",
        "\n",
        "### Homework 1: Linear Models\n",
        "#### Due: October 2nd, 2023 at 11:59PM\n",
        "\n",
        "\n",
        "#### Name: (your name goes here)\n",
        "#### Email: (your NYU email goes here)"
      ],
      "metadata": {
        "id": "i6wKMM5wjHAq"
      }
    },
    {
      "cell_type": "markdown",
      "source": [
        "### Z Disease Dataset\n",
        "\n",
        "The Z dataset contains ten baseline variables (age, sex, BMI, average blood pressure, and six blood serum measurements) and a quantitative measure of disease progression one year after baseline. Specifically, it comprises a total of 442 samples, where each sample has 10 input features and a target value representing the quantitative measure of disease Z progression."
      ],
      "metadata": {
        "id": "ZQBx7lx8vJsK"
      }
    },
    {
      "cell_type": "code",
      "source": [
        "import pandas as pd\n",
        "\n",
        "# Load the entire dataset from the CSV file\n",
        "data = pd.read_csv('hw1_dataset.csv')\n",
        "\n",
        "# Separate the features, target values, and feature names\n",
        "X = data.drop('target', axis=1)\n",
        "y = data['target'].values\n",
        "feature_names = X.columns.tolist()"
      ],
      "metadata": {
        "id": "q2wlzjTBHjMi"
      },
      "execution_count": null,
      "outputs": []
    },
    {
      "cell_type": "markdown",
      "source": [
        "### Question 1: Data Visualization (15 points)\n",
        "**Task 1.1 (5 points):** Create a scatter plot to visualize the relationship between BMI (Body Mass Index) and disease Z progression.\n",
        "\n",
        "* Analyze the scatter plot and describe whether there appears to be a positive or negative correlation, or if no clear correlation is evident.\n",
        "* Can we confidently infer a person's disease Z status using BMI as the only input variable? Explain your reasoning and any potential caveats."
      ],
      "metadata": {
        "id": "GetBc-hQRhwc"
      }
    },
    {
      "cell_type": "code",
      "source": [
        "# Add code here"
      ],
      "metadata": {
        "id": "Sbs8qNhURx2R"
      },
      "execution_count": null,
      "outputs": []
    },
    {
      "cell_type": "markdown",
      "source": [
        "**Task 1.2 (5 points):** Create a histogram to visualize the distribution of age among Z patients.\n",
        "\n",
        "* Does the histogram reveal any noticeable peaks, clusters, or trends?"
      ],
      "metadata": {
        "id": "CosXpO9TR2Mf"
      }
    },
    {
      "cell_type": "code",
      "source": [
        "# Add code here"
      ],
      "metadata": {
        "id": "LnCRy_jbR_Uj"
      },
      "execution_count": null,
      "outputs": []
    },
    {
      "cell_type": "markdown",
      "source": [
        "**Task 1.3 (5 points):** The box plot is a graphical representation that allows you to visually assess the distribution of values and identify potential differences between the two groups. If you're unfamiliar with box plots or need further guidance, you can refer to this [resource](https://www.data-to-viz.com/caveat/boxplot.html) on box plots for a detailed explanation and examples.\n",
        "\n",
        "Construct a box plot to compare the progression of Z in male and female patients. How does the progression differ between males and females, as revealed by the box plot?"
      ],
      "metadata": {
        "id": "pP9AzkLSkxS_"
      }
    },
    {
      "cell_type": "code",
      "source": [
        "# Add code here"
      ],
      "metadata": {
        "id": "wm4GW7q7lGK9"
      },
      "execution_count": null,
      "outputs": []
    },
    {
      "cell_type": "markdown",
      "source": [
        "### Question 2: Linear, Ridge, and Lasso Regression (8 points)\n",
        "\n",
        "**Task 2.1 (2 points):** Split the dataset into training and testing sets (80/20\\%) split."
      ],
      "metadata": {
        "id": "cEL2MES9S0_a"
      }
    },
    {
      "cell_type": "code",
      "source": [
        "# Add code here"
      ],
      "metadata": {
        "id": "MyhCbybkS4yb"
      },
      "execution_count": null,
      "outputs": []
    },
    {
      "cell_type": "markdown",
      "source": [
        "**Task 2.2 (2 points):** Linear regression\n",
        "\n",
        "A linear regression model is a linear function of the parameters of the model. Its output $y$ is a real number or a real vector, depending on the task definition. That is:\n",
        "$$\\beta = \\underset{\\beta}{\\text{argmin}}\\sum_{i=1}^n\\left(Y_i - X_i \\beta\\right)^2$$\n",
        "\n",
        "\n",
        "* $X_i = [X_1^{(1)}\\ldots X_i^{(p)}]$\n",
        "* $\\beta_0,\\ldots,\\beta_p$ are the coefficients for the features.\n",
        "* $x_{ji}$ represents the values of the j-th feature for the i-th observation.\n",
        "* $y_i$ is the target value for the i-th observation."
      ],
      "metadata": {
        "id": "ZucQ_aeDUp6f"
      }
    },
    {
      "cell_type": "code",
      "source": [
        "# Add code for linear regression, you can use machine learning libraries."
      ],
      "metadata": {
        "id": "zvdbjzpmTHOG"
      },
      "execution_count": null,
      "outputs": []
    },
    {
      "cell_type": "markdown",
      "source": [
        "**Task 2.3 (2 points) :** Ridge Regression is a regularized linear regression with an added L2 regularization term to the linear regression cost function.\n",
        "\n",
        "$$\\beta = \\underset{\\beta}{\\text{argmin}}\\sum_{i=1}^n\\left(Y_i - X_i \\beta\\right)^2 + \\lambda \\|\\beta\\|^2_2$$\n",
        "\n",
        "* $\\lambda$ is the regularization hyper-parameter."
      ],
      "metadata": {
        "id": "dUIN-L_dUyP6"
      }
    },
    {
      "cell_type": "code",
      "source": [
        "# Add code for ridge regression, you can use machine learning libraries."
      ],
      "metadata": {
        "id": "7nLkEMIETRJe"
      },
      "execution_count": null,
      "outputs": []
    },
    {
      "cell_type": "markdown",
      "source": [
        "**Task 2.4 (2 points):** Lasso Regression is a regularized linear regression with an added L1 regularization term to the linear regression cost function.\n",
        "\n",
        "$$\\beta = \\underset{\\beta}{\\text{argmin}}\\sum_{i=1}^n\\left(Y_i - X_i \\beta\\right)^2 + \\lambda |\\beta|$$"
      ],
      "metadata": {
        "id": "RE90K8YpU9MB"
      }
    },
    {
      "cell_type": "code",
      "source": [
        "# Add code for lasso regression, you can use machine learning libraries."
      ],
      "metadata": {
        "id": "ZdXZ5jfETS7Y"
      },
      "execution_count": null,
      "outputs": []
    },
    {
      "cell_type": "markdown",
      "source": [
        "### Question 3: Model Analysis (15 points)"
      ],
      "metadata": {
        "id": "5LhZIRn8TbP3"
      }
    },
    {
      "cell_type": "markdown",
      "source": [
        "**Task 3.1 (5 points):** Visualize the coefficients of the Linear, Ridge, and Lasso models.\n",
        "- What will be the impact of increase in the strength of s1 in linear regression?\n",
        "- Among the three models, which one exhibits a more pronounced reliance on the BMI feature?"
      ],
      "metadata": {
        "id": "W_RAz4KDTo_f"
      }
    },
    {
      "cell_type": "code",
      "source": [
        "## Add code here"
      ],
      "metadata": {
        "id": "OjyULSwdTaYk"
      },
      "execution_count": null,
      "outputs": []
    },
    {
      "cell_type": "markdown",
      "source": [
        "**Task 3.2 (5 points):** Cross-validation involves dividing the available data into multiple subsets or folds to ensure that the model is evaluated on different parts of the data. This helps in obtaining a more accurate estimate of how the model would perform on unseen data. Compare the cross validation scores between Linear, Ridge, and Lasso regression models using a bar plot."
      ],
      "metadata": {
        "id": "9PhaPV8094jX"
      }
    },
    {
      "cell_type": "code",
      "source": [
        "## Add code here"
      ],
      "metadata": {
        "id": "OiOPULQrT_Xi"
      },
      "execution_count": null,
      "outputs": []
    },
    {
      "cell_type": "markdown",
      "source": [
        "**Task 3.3 (5 points):** Conduct a grid search for both Lasso and Ridge regression models, and then visualize the differences in results obtained before and after the grid search using a bar plot.\n",
        "- What are the obtained regularization strength parameters for both models?\n",
        "- Did the grid search improve model performance?"
      ],
      "metadata": {
        "id": "edEiU13I_KCU"
      }
    },
    {
      "cell_type": "code",
      "source": [
        "## Add code here"
      ],
      "metadata": {
        "id": "6m-kc8Su_JMN"
      },
      "execution_count": null,
      "outputs": []
    },
    {
      "cell_type": "markdown",
      "source": [
        "### Question 4: Bias and Variance Tradeoff (12 points)\n",
        "\n",
        "**Task 4.1 (5 points)** Describe the bias-variance tradeoff, how it affects model performance, and explain the relationship between model complexity and bias/variance. Use markdown cells for explanation.\n",
        "\n",
        "**Task 4.2 (7 points):** Consider the Z dataset with input features X and target values y. Introduce polynomial features with degrees 1 to 8 to transform the input features into higher-degree polynomials.\n",
        "\n",
        "To demonstrate the bias-variance tradeoff, fit regression models of to the transformed dataset. Then, create line plots where the x-axis represents the polynomial degrees, and the y-axis represents the Mean Squared Error (MSE) for both the training and testing datasets. Compare the errors between these models.\n"
      ],
      "metadata": {
        "id": "vmxQ5V9sTwFQ"
      }
    },
    {
      "cell_type": "code",
      "source": [
        "### Add code here"
      ],
      "metadata": {
        "id": "NRXP72vtTvJe"
      },
      "execution_count": null,
      "outputs": []
    },
    {
      "cell_type": "markdown",
      "source": [
        "#### Z dataset (Classification)\n",
        "\n",
        "For the last question, we will create a classification version of the Z dataset as follows:\n",
        "\n",
        "Class 0: Denotes Z progression values that fall below the 50th percentile of the original target variable.\n",
        "\n",
        "Class 1: Denotes Z progression values that surpass the 50th percentile of the original target variable."
      ],
      "metadata": {
        "id": "8czv1uSvg1bb"
      }
    },
    {
      "cell_type": "code",
      "source": [
        "# Shuffle the data\n",
        "X, y = shuffle(X, y, random_state=42)\n",
        "\n",
        "# Create the target variable\n",
        "y = np.where(y > np.percentile(y, 50), 1, 0)"
      ],
      "metadata": {
        "id": "YuvRmqykgORr"
      },
      "execution_count": null,
      "outputs": []
    },
    {
      "cell_type": "markdown",
      "source": [
        "### Question 5: Logistic Regression from Scratch (20 points)\n",
        "\n",
        "\n",
        "**Task 5.1 (2 points):** Implement the sigmoid function.    \n",
        "**Task 5.2 (7 points):** Initialize the weights and biases to zeros and implement gradient descent.   \n",
        "**Task 5.3 (6 points):** Implement the predict and predict_proba functions:\n",
        "  - predict returns a single discrete category corresponding to the class that has been predicted.\n",
        "  - predict_proba returns continuous values that represent the likelihood of each input belonging to each class."
      ],
      "metadata": {
        "id": "ikWwnmM7x7yF"
      }
    },
    {
      "cell_type": "code",
      "source": [
        "import numpy as np\n",
        "\n",
        "class LogisticRegressionScratch:\n",
        "    def __init__(self, learning_rate=0.01, num_iterations=1000):\n",
        "        self.learning_rate = learning_rate\n",
        "        self.num_iterations = num_iterations\n",
        "        self.weights = None\n",
        "        self.bias = None\n",
        "\n",
        "    def _sigmoid(self, z):\n",
        "        ### Implement the sigmoid function\n",
        "\n",
        "    def fit(self, X, y):\n",
        "        ### Initialize the weights and bias\n",
        "\n",
        "        # Gradient descent\n",
        "        for _ in range(self.num_iterations):\n",
        "            ### Implement gradient descent\n",
        "\n",
        "    def predict(self, X):\n",
        "        ### Implement the predict function\n",
        "\n",
        "    def predict_proba(self, X):\n",
        "        ### Implement the predict_proba function\n",
        "\n",
        "    def get_params(self, deep=True):\n",
        "        return {\n",
        "            \"learning_rate\": self.learning_rate,\n",
        "            \"num_iterations\": self.num_iterations\n",
        "        }\n",
        "\n",
        "    def set_params(self, **params):\n",
        "        for param, value in params.items():\n",
        "            setattr(self, param, value)\n",
        "        return self"
      ],
      "metadata": {
        "id": "_b0FlGVZx-9S"
      },
      "execution_count": null,
      "outputs": []
    },
    {
      "cell_type": "markdown",
      "source": [
        "**Task 5.4 (5 points):** Create an instance of a LogisticRegressionScratch model and train it using a new (80/20%) split of the classification dataset. Afterwards, calculate the accuracy, precision, recall, and F1 score (you can use available machine learning libraries)."
      ],
      "metadata": {
        "id": "hi0v3eMhyA9N"
      }
    },
    {
      "cell_type": "code",
      "source": [
        "### Add code here"
      ],
      "metadata": {
        "id": "ScMX1OpryHD9"
      },
      "execution_count": null,
      "outputs": []
    }
  ]
}